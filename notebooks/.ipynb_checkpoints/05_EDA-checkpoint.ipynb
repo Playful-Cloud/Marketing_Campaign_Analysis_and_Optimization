{
 "cells": [
  {
   "cell_type": "markdown",
   "id": "21f3b901-9515-40b4-960b-78c1d65be49c",
   "metadata": {},
   "source": [
    "## EDA"
   ]
  },
  {
   "cell_type": "markdown",
   "id": "658307d3-1be7-4292-99cb-6db215de54c4",
   "metadata": {},
   "source": [
    "My Goal: Explore data patterns & insights.\n",
    "Tasks:\n",
    "\n",
    "Distribution plots (budget, impressions, clicks, conversions)\n",
    "\n",
    "Correlations between metrics (budget vs conversions, CTR vs CR)\n",
    "\n",
    "Channel-level comparisons (Email vs SEO vs Social vs Display Ads)\n",
    "\n",
    "Identify trends (monthly conversions, CTR over time)\n",
    "\n",
    "Document key anomalies (e.g., campaigns with high spend but low CR)"
   ]
  },
  {
   "cell_type": "code",
   "execution_count": null,
   "id": "c1452d71-4efc-44a5-8306-494cdeda8dbc",
   "metadata": {},
   "outputs": [],
   "source": []
  }
 ],
 "metadata": {
  "kernelspec": {
   "display_name": "Python 3 (ipykernel)",
   "language": "python",
   "name": "python3"
  },
  "language_info": {
   "codemirror_mode": {
    "name": "ipython",
    "version": 3
   },
   "file_extension": ".py",
   "mimetype": "text/x-python",
   "name": "python",
   "nbconvert_exporter": "python",
   "pygments_lexer": "ipython3",
   "version": "3.13.3"
  }
 },
 "nbformat": 4,
 "nbformat_minor": 5
}
