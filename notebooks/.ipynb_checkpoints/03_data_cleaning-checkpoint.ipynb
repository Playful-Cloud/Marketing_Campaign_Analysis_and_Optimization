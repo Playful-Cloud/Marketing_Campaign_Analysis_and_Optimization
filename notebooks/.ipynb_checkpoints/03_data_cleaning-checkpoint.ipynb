{
 "cells": [
  {
   "cell_type": "markdown",
   "id": "17115376-aca0-49c7-b8e2-40f94d9d25f3",
   "metadata": {},
   "source": [
    "## Data Cleaning"
   ]
  },
  {
   "cell_type": "markdown",
   "id": "58efc8e2-7946-44c9-a7d8-5b6af8b7c1ff",
   "metadata": {},
   "source": [
    "My Goal: Apply the fixes from 01_data_quality.\n",
    "Tasks:\n",
    "\n",
    "Remove duplicates\n",
    "\n",
    "Impute/fix missing values (mean/median, forward fill, drop)\n",
    "\n",
    "Standardize column names (snake_case)\n",
    "\n",
    "Fix categorical values (e.g., “fb”, “Facebook”, “FB” → Facebook)\n",
    "\n",
    "Handle outliers (drop, cap, transform)\n",
    "\n",
    "Save cleaned dataset → /data/processed/marketing_campaigns_cleaned.csv\n",
    "\n"
   ]
  },
  {
   "cell_type": "code",
   "execution_count": 19,
   "id": "0693274c-de76-4c9a-9722-a19017e4af7f",
   "metadata": {},
   "outputs": [],
   "source": [
    "#Libraries\n",
    "\n",
    "import pandas as pd\n",
    "import os"
   ]
  },
  {
   "cell_type": "code",
   "execution_count": 20,
   "id": "c9d1b624-abba-4aa0-bb66-3c3499589d73",
   "metadata": {},
   "outputs": [],
   "source": [
    "#LOAD DATA\n",
    "#LOAD 1ST CSV - 2024 FILE\n",
    "\n",
    "\n",
    "\n",
    "df1 = pd.read_csv(\"../data/raw/marketing_campaign_2024.csv\")\n",
    "df2 = pd.read_csv(\"../data/raw/marketing_campaign_2025.csv\")"
   ]
  },
  {
   "cell_type": "code",
   "execution_count": 21,
   "id": "af62fa95-47d5-46b8-8470-ffb2e054c30c",
   "metadata": {},
   "outputs": [
    {
     "data": {
      "text/html": [
       "<div>\n",
       "<style scoped>\n",
       "    .dataframe tbody tr th:only-of-type {\n",
       "        vertical-align: middle;\n",
       "    }\n",
       "\n",
       "    .dataframe tbody tr th {\n",
       "        vertical-align: top;\n",
       "    }\n",
       "\n",
       "    .dataframe thead th {\n",
       "        text-align: right;\n",
       "    }\n",
       "</style>\n",
       "<table border=\"1\" class=\"dataframe\">\n",
       "  <thead>\n",
       "    <tr style=\"text-align: right;\">\n",
       "      <th></th>\n",
       "      <th>campaign_id</th>\n",
       "      <th>campaign_name</th>\n",
       "      <th>start_date</th>\n",
       "      <th>end_date</th>\n",
       "      <th>channel</th>\n",
       "      <th>region</th>\n",
       "      <th>impressions</th>\n",
       "      <th>clicks</th>\n",
       "      <th>conversions</th>\n",
       "      <th>spend_usd</th>\n",
       "      <th>revenue_usd</th>\n",
       "      <th>target_audience</th>\n",
       "      <th>product_category</th>\n",
       "      <th>device</th>\n",
       "      <th>year</th>\n",
       "    </tr>\n",
       "  </thead>\n",
       "  <tbody>\n",
       "    <tr>\n",
       "      <th>0</th>\n",
       "      <td>2024_0001</td>\n",
       "      <td>Campaign_2024_0001</td>\n",
       "      <td>2024-05-16</td>\n",
       "      <td>2024-08-16</td>\n",
       "      <td>Search</td>\n",
       "      <td>South America</td>\n",
       "      <td>28252</td>\n",
       "      <td>5609</td>\n",
       "      <td>65466</td>\n",
       "      <td>39193.43</td>\n",
       "      <td>79017.74</td>\n",
       "      <td>Youth</td>\n",
       "      <td>Electronics</td>\n",
       "      <td>Desktop</td>\n",
       "      <td>2024</td>\n",
       "    </tr>\n",
       "    <tr>\n",
       "      <th>1</th>\n",
       "      <td>2024_0002</td>\n",
       "      <td>Campaign_2024_0002</td>\n",
       "      <td>2024-04-06</td>\n",
       "      <td>2024-10-13</td>\n",
       "      <td>Search</td>\n",
       "      <td>Asia</td>\n",
       "      <td>89608</td>\n",
       "      <td>83584</td>\n",
       "      <td>26865</td>\n",
       "      <td>17291.53</td>\n",
       "      <td>49868.54</td>\n",
       "      <td>Adults</td>\n",
       "      <td>Home</td>\n",
       "      <td>Mobile</td>\n",
       "      <td>2024</td>\n",
       "    </tr>\n",
       "    <tr>\n",
       "      <th>2</th>\n",
       "      <td>2024_0003</td>\n",
       "      <td>Campaign_2024_0003</td>\n",
       "      <td>2024-05-08</td>\n",
       "      <td>2024-11-27</td>\n",
       "      <td>Social</td>\n",
       "      <td>Europe</td>\n",
       "      <td>37853</td>\n",
       "      <td>62661</td>\n",
       "      <td>43662</td>\n",
       "      <td>6729.63</td>\n",
       "      <td>63021.28</td>\n",
       "      <td>Seniors</td>\n",
       "      <td>Electronics</td>\n",
       "      <td>Desktop</td>\n",
       "      <td>2024</td>\n",
       "    </tr>\n",
       "    <tr>\n",
       "      <th>3</th>\n",
       "      <td>2024_0004</td>\n",
       "      <td>Campaign_2024_0004</td>\n",
       "      <td>2024-01-28</td>\n",
       "      <td>2024-08-03</td>\n",
       "      <td>Display</td>\n",
       "      <td>Africa</td>\n",
       "      <td>10577</td>\n",
       "      <td>41421</td>\n",
       "      <td>75023</td>\n",
       "      <td>15077.58</td>\n",
       "      <td>133106.71</td>\n",
       "      <td>Seniors</td>\n",
       "      <td>Clothing</td>\n",
       "      <td>Desktop</td>\n",
       "      <td>2024</td>\n",
       "    </tr>\n",
       "    <tr>\n",
       "      <th>4</th>\n",
       "      <td>2024_0005</td>\n",
       "      <td>Campaign_2024_0005</td>\n",
       "      <td>2024-02-06</td>\n",
       "      <td>2024-08-23</td>\n",
       "      <td>Social</td>\n",
       "      <td>Asia</td>\n",
       "      <td>84039</td>\n",
       "      <td>56010</td>\n",
       "      <td>11283</td>\n",
       "      <td>16877.69</td>\n",
       "      <td>144736.99</td>\n",
       "      <td>Adults</td>\n",
       "      <td>Home</td>\n",
       "      <td>Mobile</td>\n",
       "      <td>2024</td>\n",
       "    </tr>\n",
       "  </tbody>\n",
       "</table>\n",
       "</div>"
      ],
      "text/plain": [
       "  campaign_id       campaign_name  start_date    end_date  channel  \\\n",
       "0   2024_0001  Campaign_2024_0001  2024-05-16  2024-08-16   Search   \n",
       "1   2024_0002  Campaign_2024_0002  2024-04-06  2024-10-13   Search   \n",
       "2   2024_0003  Campaign_2024_0003  2024-05-08  2024-11-27   Social   \n",
       "3   2024_0004  Campaign_2024_0004  2024-01-28  2024-08-03  Display   \n",
       "4   2024_0005  Campaign_2024_0005  2024-02-06  2024-08-23   Social   \n",
       "\n",
       "          region  impressions  clicks  conversions  spend_usd  revenue_usd  \\\n",
       "0  South America        28252    5609        65466   39193.43     79017.74   \n",
       "1           Asia        89608   83584        26865   17291.53     49868.54   \n",
       "2         Europe        37853   62661        43662    6729.63     63021.28   \n",
       "3         Africa        10577   41421        75023   15077.58    133106.71   \n",
       "4           Asia        84039   56010        11283   16877.69    144736.99   \n",
       "\n",
       "  target_audience product_category   device  year  \n",
       "0           Youth      Electronics  Desktop  2024  \n",
       "1          Adults             Home   Mobile  2024  \n",
       "2         Seniors      Electronics  Desktop  2024  \n",
       "3         Seniors         Clothing  Desktop  2024  \n",
       "4          Adults             Home   Mobile  2024  "
      ]
     },
     "execution_count": 21,
     "metadata": {},
     "output_type": "execute_result"
    }
   ],
   "source": [
    "df1.head()"
   ]
  },
  {
   "cell_type": "code",
   "execution_count": 22,
   "id": "6f2fceb8-cc50-48a6-8a7d-6189ea502ea6",
   "metadata": {},
   "outputs": [
    {
     "data": {
      "text/html": [
       "<div>\n",
       "<style scoped>\n",
       "    .dataframe tbody tr th:only-of-type {\n",
       "        vertical-align: middle;\n",
       "    }\n",
       "\n",
       "    .dataframe tbody tr th {\n",
       "        vertical-align: top;\n",
       "    }\n",
       "\n",
       "    .dataframe thead th {\n",
       "        text-align: right;\n",
       "    }\n",
       "</style>\n",
       "<table border=\"1\" class=\"dataframe\">\n",
       "  <thead>\n",
       "    <tr style=\"text-align: right;\">\n",
       "      <th></th>\n",
       "      <th>campaign_id</th>\n",
       "      <th>campaign_name</th>\n",
       "      <th>start_date</th>\n",
       "      <th>end_date</th>\n",
       "      <th>channel</th>\n",
       "      <th>region</th>\n",
       "      <th>impressions</th>\n",
       "      <th>clicks</th>\n",
       "      <th>conversions</th>\n",
       "      <th>spend_usd</th>\n",
       "      <th>revenue_usd</th>\n",
       "      <th>target_audience</th>\n",
       "      <th>product_category</th>\n",
       "      <th>device</th>\n",
       "      <th>year</th>\n",
       "    </tr>\n",
       "  </thead>\n",
       "  <tbody>\n",
       "    <tr>\n",
       "      <th>0</th>\n",
       "      <td>2025_0001</td>\n",
       "      <td>Campaign_2025_0001</td>\n",
       "      <td>2025-03-04</td>\n",
       "      <td>2025-07-20</td>\n",
       "      <td>Display</td>\n",
       "      <td>North America</td>\n",
       "      <td>7696</td>\n",
       "      <td>3587</td>\n",
       "      <td>15144</td>\n",
       "      <td>11046.09</td>\n",
       "      <td>117455.53</td>\n",
       "      <td>Seniors</td>\n",
       "      <td>Services</td>\n",
       "      <td>Desktop</td>\n",
       "      <td>2025</td>\n",
       "    </tr>\n",
       "    <tr>\n",
       "      <th>1</th>\n",
       "      <td>2025_0002</td>\n",
       "      <td>Campaign_2025_0002</td>\n",
       "      <td>2025-04-05</td>\n",
       "      <td>2025-07-25</td>\n",
       "      <td>Print</td>\n",
       "      <td>Asia</td>\n",
       "      <td>79664</td>\n",
       "      <td>30373</td>\n",
       "      <td>75743</td>\n",
       "      <td>16419.25</td>\n",
       "      <td>92144.07</td>\n",
       "      <td>Youth</td>\n",
       "      <td>Home</td>\n",
       "      <td>Tablet</td>\n",
       "      <td>2025</td>\n",
       "    </tr>\n",
       "    <tr>\n",
       "      <th>2</th>\n",
       "      <td>2025_0003</td>\n",
       "      <td>Campaign_2025_0003</td>\n",
       "      <td>2025-03-18</td>\n",
       "      <td>2025-12-06</td>\n",
       "      <td>Print</td>\n",
       "      <td>North America</td>\n",
       "      <td>33324</td>\n",
       "      <td>89728</td>\n",
       "      <td>79251</td>\n",
       "      <td>33333.21</td>\n",
       "      <td>24070.68</td>\n",
       "      <td>Youth</td>\n",
       "      <td>Clothing</td>\n",
       "      <td>Desktop</td>\n",
       "      <td>2025</td>\n",
       "    </tr>\n",
       "    <tr>\n",
       "      <th>3</th>\n",
       "      <td>2025_0004</td>\n",
       "      <td>Campaign_2025_0004</td>\n",
       "      <td>2025-03-09</td>\n",
       "      <td>2025-11-02</td>\n",
       "      <td>Search</td>\n",
       "      <td>Asia</td>\n",
       "      <td>32528</td>\n",
       "      <td>33793</td>\n",
       "      <td>4948</td>\n",
       "      <td>14340.82</td>\n",
       "      <td>13570.48</td>\n",
       "      <td>Adults</td>\n",
       "      <td>Travel</td>\n",
       "      <td>Mobile</td>\n",
       "      <td>2025</td>\n",
       "    </tr>\n",
       "    <tr>\n",
       "      <th>4</th>\n",
       "      <td>2025_0005</td>\n",
       "      <td>Campaign_2025_0005</td>\n",
       "      <td>2025-05-21</td>\n",
       "      <td>2025-09-28</td>\n",
       "      <td>Email</td>\n",
       "      <td>Africa</td>\n",
       "      <td>80785</td>\n",
       "      <td>35905</td>\n",
       "      <td>36563</td>\n",
       "      <td>37133.14</td>\n",
       "      <td>122995.42</td>\n",
       "      <td>Seniors</td>\n",
       "      <td>Services</td>\n",
       "      <td>Tablet</td>\n",
       "      <td>2025</td>\n",
       "    </tr>\n",
       "  </tbody>\n",
       "</table>\n",
       "</div>"
      ],
      "text/plain": [
       "  campaign_id       campaign_name  start_date    end_date  channel  \\\n",
       "0   2025_0001  Campaign_2025_0001  2025-03-04  2025-07-20  Display   \n",
       "1   2025_0002  Campaign_2025_0002  2025-04-05  2025-07-25    Print   \n",
       "2   2025_0003  Campaign_2025_0003  2025-03-18  2025-12-06    Print   \n",
       "3   2025_0004  Campaign_2025_0004  2025-03-09  2025-11-02   Search   \n",
       "4   2025_0005  Campaign_2025_0005  2025-05-21  2025-09-28    Email   \n",
       "\n",
       "          region  impressions  clicks  conversions  spend_usd  revenue_usd  \\\n",
       "0  North America         7696    3587        15144   11046.09    117455.53   \n",
       "1           Asia        79664   30373        75743   16419.25     92144.07   \n",
       "2  North America        33324   89728        79251   33333.21     24070.68   \n",
       "3           Asia        32528   33793         4948   14340.82     13570.48   \n",
       "4         Africa        80785   35905        36563   37133.14    122995.42   \n",
       "\n",
       "  target_audience product_category   device  year  \n",
       "0         Seniors         Services  Desktop  2025  \n",
       "1           Youth             Home   Tablet  2025  \n",
       "2           Youth         Clothing  Desktop  2025  \n",
       "3          Adults           Travel   Mobile  2025  \n",
       "4         Seniors         Services   Tablet  2025  "
      ]
     },
     "execution_count": 22,
     "metadata": {},
     "output_type": "execute_result"
    }
   ],
   "source": [
    "df2.head()"
   ]
  },
  {
   "cell_type": "markdown",
   "id": "365ae602-5dc4-46eb-b8d2-ef2f5cbef1d8",
   "metadata": {},
   "source": [
    "Standardize Column Names"
   ]
  },
  {
   "cell_type": "code",
   "execution_count": 23,
   "id": "49a7168f-5dd6-4fc5-814e-c9eb709b1f49",
   "metadata": {},
   "outputs": [],
   "source": [
    "# df1.columns = df1.columns.str.lower().str.strip().str.replace(' ', '_')\n",
    "# df2.columns = df2.columns.str.lower().str.strip().str.replace(' ', '_')\n",
    "\n",
    "for df in [df1, df2]:\n",
    "    df.columns = (\n",
    "        df.columns.str.lower()\n",
    "        .str.strip()\n",
    "        .str.replace(\" \", \"_\")\n",
    "    )\n",
    "\n"
   ]
  },
  {
   "cell_type": "code",
   "execution_count": 24,
   "id": "30643cc8-01be-4b85-b86f-076331a2371d",
   "metadata": {},
   "outputs": [
    {
     "data": {
      "text/plain": [
       "Index(['campaign_id', 'campaign_name', 'start_date', 'end_date', 'channel',\n",
       "       'region', 'impressions', 'clicks', 'conversions', 'spend_usd',\n",
       "       'revenue_usd', 'target_audience', 'product_category', 'device', 'year'],\n",
       "      dtype='object')"
      ]
     },
     "execution_count": 24,
     "metadata": {},
     "output_type": "execute_result"
    }
   ],
   "source": [
    "df1.columns"
   ]
  },
  {
   "cell_type": "code",
   "execution_count": 25,
   "id": "3a09af73-047d-427f-81d5-e69e5de86981",
   "metadata": {},
   "outputs": [
    {
     "data": {
      "text/plain": [
       "Index(['campaign_id', 'campaign_name', 'start_date', 'end_date', 'channel',\n",
       "       'region', 'impressions', 'clicks', 'conversions', 'spend_usd',\n",
       "       'revenue_usd', 'target_audience', 'product_category', 'device', 'year'],\n",
       "      dtype='object')"
      ]
     },
     "execution_count": 25,
     "metadata": {},
     "output_type": "execute_result"
    }
   ],
   "source": [
    "df2.columns"
   ]
  },
  {
   "cell_type": "markdown",
   "id": "f3b10722-cc64-4877-b423-4ab9dba40025",
   "metadata": {},
   "source": [
    "Convert Data types - Dates"
   ]
  },
  {
   "cell_type": "code",
   "execution_count": 12,
   "id": "2dbeab23-1303-48e2-913d-f80c3f778c1e",
   "metadata": {},
   "outputs": [
    {
     "name": "stdout",
     "output_type": "stream",
     "text": [
      "<class 'pandas.core.frame.DataFrame'>\n",
      "RangeIndex: 500 entries, 0 to 499\n",
      "Data columns (total 15 columns):\n",
      " #   Column            Non-Null Count  Dtype  \n",
      "---  ------            --------------  -----  \n",
      " 0   campaign_id       500 non-null    object \n",
      " 1   campaign_name     500 non-null    object \n",
      " 2   start_date        500 non-null    object \n",
      " 3   end_date          500 non-null    object \n",
      " 4   channel           500 non-null    object \n",
      " 5   region            500 non-null    object \n",
      " 6   impressions       500 non-null    int64  \n",
      " 7   clicks            500 non-null    int64  \n",
      " 8   conversions       500 non-null    int64  \n",
      " 9   spend_usd         500 non-null    float64\n",
      " 10  revenue_usd       500 non-null    float64\n",
      " 11  target_audience   500 non-null    object \n",
      " 12  product_category  500 non-null    object \n",
      " 13  device            500 non-null    object \n",
      " 14  year              500 non-null    int64  \n",
      "dtypes: float64(2), int64(4), object(9)\n",
      "memory usage: 58.7+ KB\n"
     ]
    }
   ],
   "source": [
    "df1.info()"
   ]
  },
  {
   "cell_type": "code",
   "execution_count": 13,
   "id": "261b648f-3865-44bb-9225-ccc67de5a5bb",
   "metadata": {},
   "outputs": [],
   "source": [
    "for df in [df1, df2]:\n",
    "    df['start_date'] = pd.to_datetime(df['start_date'], errors='coerce')\n",
    "    df['end_date'] = pd.to_datetime(df['end_date'], errors='coerce')\n",
    "    df['spend_usd'] = pd.to_numeric(df['spend_usd'], errors='coerce')\n",
    "    df['revenue_usd'] = pd.to_numeric(df['revenue_usd'], errors='coerce')\n"
   ]
  },
  {
   "cell_type": "code",
   "execution_count": 14,
   "id": "9c0e20ea-490a-4318-88d6-8a17c8e91c81",
   "metadata": {},
   "outputs": [
    {
     "name": "stdout",
     "output_type": "stream",
     "text": [
      "<class 'pandas.core.frame.DataFrame'>\n",
      "RangeIndex: 500 entries, 0 to 499\n",
      "Data columns (total 15 columns):\n",
      " #   Column            Non-Null Count  Dtype         \n",
      "---  ------            --------------  -----         \n",
      " 0   campaign_id       500 non-null    object        \n",
      " 1   campaign_name     500 non-null    object        \n",
      " 2   start_date        500 non-null    datetime64[ns]\n",
      " 3   end_date          500 non-null    datetime64[ns]\n",
      " 4   channel           500 non-null    object        \n",
      " 5   region            500 non-null    object        \n",
      " 6   impressions       500 non-null    int64         \n",
      " 7   clicks            500 non-null    int64         \n",
      " 8   conversions       500 non-null    int64         \n",
      " 9   spend_usd         500 non-null    float64       \n",
      " 10  revenue_usd       500 non-null    float64       \n",
      " 11  target_audience   500 non-null    object        \n",
      " 12  product_category  500 non-null    object        \n",
      " 13  device            500 non-null    object        \n",
      " 14  year              500 non-null    int64         \n",
      "dtypes: datetime64[ns](2), float64(2), int64(4), object(7)\n",
      "memory usage: 58.7+ KB\n"
     ]
    }
   ],
   "source": [
    "df1.info()"
   ]
  },
  {
   "cell_type": "code",
   "execution_count": 15,
   "id": "00cdb383-cf5d-4827-9006-4429001457b9",
   "metadata": {},
   "outputs": [
    {
     "name": "stdout",
     "output_type": "stream",
     "text": [
      "<class 'pandas.core.frame.DataFrame'>\n",
      "RangeIndex: 500 entries, 0 to 499\n",
      "Data columns (total 15 columns):\n",
      " #   Column            Non-Null Count  Dtype         \n",
      "---  ------            --------------  -----         \n",
      " 0   campaign_id       500 non-null    object        \n",
      " 1   campaign_name     500 non-null    object        \n",
      " 2   start_date        500 non-null    datetime64[ns]\n",
      " 3   end_date          500 non-null    datetime64[ns]\n",
      " 4   channel           500 non-null    object        \n",
      " 5   region            500 non-null    object        \n",
      " 6   impressions       500 non-null    int64         \n",
      " 7   clicks            500 non-null    int64         \n",
      " 8   conversions       500 non-null    int64         \n",
      " 9   spend_usd         500 non-null    float64       \n",
      " 10  revenue_usd       500 non-null    float64       \n",
      " 11  target_audience   500 non-null    object        \n",
      " 12  product_category  500 non-null    object        \n",
      " 13  device            500 non-null    object        \n",
      " 14  year              500 non-null    int64         \n",
      "dtypes: datetime64[ns](2), float64(2), int64(4), object(7)\n",
      "memory usage: 58.7+ KB\n"
     ]
    }
   ],
   "source": [
    "df2.info()"
   ]
  },
  {
   "cell_type": "markdown",
   "id": "06e5d971-93b2-4633-ba55-c22f6823474f",
   "metadata": {},
   "source": [
    "MIssing Values"
   ]
  },
  {
   "cell_type": "code",
   "execution_count": 17,
   "id": "59ab189d-9e43-4ee5-8b94-f0f71b65c061",
   "metadata": {},
   "outputs": [],
   "source": [
    "for df in [df1, df2]:\n",
    "    df.fillna({\n",
    "        'impressions': 0,\n",
    "        'clicks': 0,\n",
    "        'conversions': 0,\n",
    "        'spend_usd': 0,\n",
    "        'revenue_usd': 0\n",
    "    }, inplace=True)\n"
   ]
  },
  {
   "cell_type": "markdown",
   "id": "d5b30f98-1281-4f38-bbbd-b2817963f1ac",
   "metadata": {},
   "source": [
    "Remove Dups"
   ]
  },
  {
   "cell_type": "code",
   "execution_count": 26,
   "id": "ddea1175-d3b2-43f4-920b-fe72778ccf23",
   "metadata": {},
   "outputs": [],
   "source": [
    "for df in [df1, df2]:\n",
    "    df.drop_duplicates(subset=[\"campaign_id\"], inplace=True)\n"
   ]
  },
  {
   "cell_type": "markdown",
   "id": "a01ca8f0-54e4-4d98-88d8-3663e1451f75",
   "metadata": {},
   "source": [
    "Add Dataset Source Column"
   ]
  },
  {
   "cell_type": "code",
   "execution_count": 27,
   "id": "2c334081-ad26-4cfa-895b-f0685d21f0ef",
   "metadata": {},
   "outputs": [],
   "source": [
    "df1[\"dataset_year\"] = 2024\n",
    "df2[\"dataset_year\"] = 2025\n"
   ]
  },
  {
   "cell_type": "code",
   "execution_count": 31,
   "id": "a960210d-f054-4488-9784-c9092282b1ea",
   "metadata": {},
   "outputs": [
    {
     "data": {
      "text/plain": [
       "0    2024\n",
       "1    2024\n",
       "2    2024\n",
       "3    2024\n",
       "4    2024\n",
       "Name: dataset_year, dtype: int64"
      ]
     },
     "execution_count": 31,
     "metadata": {},
     "output_type": "execute_result"
    }
   ],
   "source": [
    "df1[\"dataset_year\"][:5]"
   ]
  },
  {
   "cell_type": "code",
   "execution_count": 32,
   "id": "789ca8fa-5ad2-45ca-a410-a799bfe72986",
   "metadata": {},
   "outputs": [
    {
     "data": {
      "text/plain": [
       "0    2025\n",
       "1    2025\n",
       "2    2025\n",
       "3    2025\n",
       "4    2025\n",
       "Name: dataset_year, dtype: int64"
      ]
     },
     "execution_count": 32,
     "metadata": {},
     "output_type": "execute_result"
    }
   ],
   "source": [
    "df2[\"dataset_year\"][:5]"
   ]
  },
  {
   "cell_type": "markdown",
   "id": "4ff7952f-a577-4544-8e71-54ae58af5535",
   "metadata": {},
   "source": [
    "Cross validation Column count"
   ]
  },
  {
   "cell_type": "code",
   "execution_count": 34,
   "id": "5fa1350b-bca7-4dba-8225-204e660b8804",
   "metadata": {},
   "outputs": [
    {
     "data": {
      "text/plain": [
       "set()"
      ]
     },
     "execution_count": 34,
     "metadata": {},
     "output_type": "execute_result"
    }
   ],
   "source": [
    "set(df1.columns) - set(df2.columns)\n",
    "set(df2.columns) - set(df1.columns)\n"
   ]
  },
  {
   "cell_type": "markdown",
   "id": "e18b5866-6b39-4a4c-961a-ed894b6cb6ee",
   "metadata": {},
   "source": [
    "Combine data set"
   ]
  },
  {
   "cell_type": "code",
   "execution_count": 35,
   "id": "5e69e0f1-faa1-411d-bb53-3dd28153de4c",
   "metadata": {},
   "outputs": [],
   "source": [
    "df = pd.concat([df1, df2], ignore_index=True)\n"
   ]
  },
  {
   "cell_type": "code",
   "execution_count": 36,
   "id": "ce9a06c2-1de7-4862-abfe-ef7b8b78778c",
   "metadata": {},
   "outputs": [
    {
     "data": {
      "text/plain": [
       "(1000, 16)"
      ]
     },
     "execution_count": 36,
     "metadata": {},
     "output_type": "execute_result"
    }
   ],
   "source": [
    "#validate\n",
    "\n",
    "df[\"dataset_year\"].value_counts()\n",
    "df.shape\n"
   ]
  },
  {
   "cell_type": "markdown",
   "id": "0370b8f3-239d-4457-989f-4abfd28ec69c",
   "metadata": {},
   "source": [
    "Keep Changes - Save files as CSV to data/procesed folder"
   ]
  },
  {
   "cell_type": "code",
   "execution_count": 37,
   "id": "b9ad2a88-abf7-4cb2-9c15-31bbe18c1c2d",
   "metadata": {},
   "outputs": [],
   "source": [
    "os.makedirs(\"../data/processed\", exist_ok=True)\n",
    "\n",
    "df1.to_csv(\"../data/processed/marketing_campaign_2024_clean.csv\", index=False)\n",
    "df2.to_csv(\"../data/processed/marketing_campaign_2025_clean.csv\", index=False)\n",
    "df.to_csv(\"../data/processed/marketing_campaign_all_clean.csv\", index=False)\n"
   ]
  },
  {
   "cell_type": "markdown",
   "id": "52bbe752-b311-436d-ad16-d4856c7247a5",
   "metadata": {},
   "source": [
    "Validation"
   ]
  },
  {
   "cell_type": "code",
   "execution_count": 38,
   "id": "018345ab-caaa-4a37-87e5-e4233ed949db",
   "metadata": {},
   "outputs": [
    {
     "name": "stdout",
     "output_type": "stream",
     "text": [
      "(1000, 16)\n",
      "<class 'pandas.core.frame.DataFrame'>\n",
      "RangeIndex: 1000 entries, 0 to 999\n",
      "Data columns (total 16 columns):\n",
      " #   Column            Non-Null Count  Dtype  \n",
      "---  ------            --------------  -----  \n",
      " 0   campaign_id       1000 non-null   object \n",
      " 1   campaign_name     1000 non-null   object \n",
      " 2   start_date        1000 non-null   object \n",
      " 3   end_date          1000 non-null   object \n",
      " 4   channel           1000 non-null   object \n",
      " 5   region            1000 non-null   object \n",
      " 6   impressions       1000 non-null   int64  \n",
      " 7   clicks            1000 non-null   int64  \n",
      " 8   conversions       1000 non-null   int64  \n",
      " 9   spend_usd         1000 non-null   float64\n",
      " 10  revenue_usd       1000 non-null   float64\n",
      " 11  target_audience   1000 non-null   object \n",
      " 12  product_category  1000 non-null   object \n",
      " 13  device            1000 non-null   object \n",
      " 14  year              1000 non-null   int64  \n",
      " 15  dataset_year      1000 non-null   int64  \n",
      "dtypes: float64(2), int64(5), object(9)\n",
      "memory usage: 125.1+ KB\n",
      "None\n",
      "        impressions        clicks   conversions     spend_usd   revenue_usd  \\\n",
      "count   1000.000000   1000.000000   1000.000000   1000.000000    1000.00000   \n",
      "mean   50075.412000  44862.473000  42468.303000  25358.839820   75321.01858   \n",
      "std    28512.620883  25846.779215  24712.813169  13952.667198   43363.78566   \n",
      "min     1034.000000     86.000000     30.000000   1066.110000    1098.66000   \n",
      "25%    24678.500000  22991.500000  20419.750000  13671.762500   38452.37750   \n",
      "50%    49806.500000  44616.500000  41554.000000  25147.255000   74563.21000   \n",
      "75%    73741.000000  66172.750000  64576.000000  37092.840000  113662.25000   \n",
      "max    99915.000000  89865.000000  84983.000000  49908.450000  149713.74000   \n",
      "\n",
      "             year  dataset_year  \n",
      "count  1000.00000    1000.00000  \n",
      "mean   2024.50000    2024.50000  \n",
      "std       0.50025       0.50025  \n",
      "min    2024.00000    2024.00000  \n",
      "25%    2024.00000    2024.00000  \n",
      "50%    2024.50000    2024.50000  \n",
      "75%    2025.00000    2025.00000  \n",
      "max    2025.00000    2025.00000  \n"
     ]
    },
    {
     "data": {
      "text/html": [
       "<div>\n",
       "<style scoped>\n",
       "    .dataframe tbody tr th:only-of-type {\n",
       "        vertical-align: middle;\n",
       "    }\n",
       "\n",
       "    .dataframe tbody tr th {\n",
       "        vertical-align: top;\n",
       "    }\n",
       "\n",
       "    .dataframe thead th {\n",
       "        text-align: right;\n",
       "    }\n",
       "</style>\n",
       "<table border=\"1\" class=\"dataframe\">\n",
       "  <thead>\n",
       "    <tr style=\"text-align: right;\">\n",
       "      <th></th>\n",
       "      <th>campaign_id</th>\n",
       "      <th>campaign_name</th>\n",
       "      <th>start_date</th>\n",
       "      <th>end_date</th>\n",
       "      <th>channel</th>\n",
       "      <th>region</th>\n",
       "      <th>impressions</th>\n",
       "      <th>clicks</th>\n",
       "      <th>conversions</th>\n",
       "      <th>spend_usd</th>\n",
       "      <th>revenue_usd</th>\n",
       "      <th>target_audience</th>\n",
       "      <th>product_category</th>\n",
       "      <th>device</th>\n",
       "      <th>year</th>\n",
       "      <th>dataset_year</th>\n",
       "    </tr>\n",
       "  </thead>\n",
       "  <tbody>\n",
       "    <tr>\n",
       "      <th>0</th>\n",
       "      <td>2024_0001</td>\n",
       "      <td>Campaign_2024_0001</td>\n",
       "      <td>2024-05-16</td>\n",
       "      <td>2024-08-16</td>\n",
       "      <td>Search</td>\n",
       "      <td>South America</td>\n",
       "      <td>28252</td>\n",
       "      <td>5609</td>\n",
       "      <td>65466</td>\n",
       "      <td>39193.43</td>\n",
       "      <td>79017.74</td>\n",
       "      <td>Youth</td>\n",
       "      <td>Electronics</td>\n",
       "      <td>Desktop</td>\n",
       "      <td>2024</td>\n",
       "      <td>2024</td>\n",
       "    </tr>\n",
       "    <tr>\n",
       "      <th>1</th>\n",
       "      <td>2024_0002</td>\n",
       "      <td>Campaign_2024_0002</td>\n",
       "      <td>2024-04-06</td>\n",
       "      <td>2024-10-13</td>\n",
       "      <td>Search</td>\n",
       "      <td>Asia</td>\n",
       "      <td>89608</td>\n",
       "      <td>83584</td>\n",
       "      <td>26865</td>\n",
       "      <td>17291.53</td>\n",
       "      <td>49868.54</td>\n",
       "      <td>Adults</td>\n",
       "      <td>Home</td>\n",
       "      <td>Mobile</td>\n",
       "      <td>2024</td>\n",
       "      <td>2024</td>\n",
       "    </tr>\n",
       "    <tr>\n",
       "      <th>2</th>\n",
       "      <td>2024_0003</td>\n",
       "      <td>Campaign_2024_0003</td>\n",
       "      <td>2024-05-08</td>\n",
       "      <td>2024-11-27</td>\n",
       "      <td>Social</td>\n",
       "      <td>Europe</td>\n",
       "      <td>37853</td>\n",
       "      <td>62661</td>\n",
       "      <td>43662</td>\n",
       "      <td>6729.63</td>\n",
       "      <td>63021.28</td>\n",
       "      <td>Seniors</td>\n",
       "      <td>Electronics</td>\n",
       "      <td>Desktop</td>\n",
       "      <td>2024</td>\n",
       "      <td>2024</td>\n",
       "    </tr>\n",
       "    <tr>\n",
       "      <th>3</th>\n",
       "      <td>2024_0004</td>\n",
       "      <td>Campaign_2024_0004</td>\n",
       "      <td>2024-01-28</td>\n",
       "      <td>2024-08-03</td>\n",
       "      <td>Display</td>\n",
       "      <td>Africa</td>\n",
       "      <td>10577</td>\n",
       "      <td>41421</td>\n",
       "      <td>75023</td>\n",
       "      <td>15077.58</td>\n",
       "      <td>133106.71</td>\n",
       "      <td>Seniors</td>\n",
       "      <td>Clothing</td>\n",
       "      <td>Desktop</td>\n",
       "      <td>2024</td>\n",
       "      <td>2024</td>\n",
       "    </tr>\n",
       "    <tr>\n",
       "      <th>4</th>\n",
       "      <td>2024_0005</td>\n",
       "      <td>Campaign_2024_0005</td>\n",
       "      <td>2024-02-06</td>\n",
       "      <td>2024-08-23</td>\n",
       "      <td>Social</td>\n",
       "      <td>Asia</td>\n",
       "      <td>84039</td>\n",
       "      <td>56010</td>\n",
       "      <td>11283</td>\n",
       "      <td>16877.69</td>\n",
       "      <td>144736.99</td>\n",
       "      <td>Adults</td>\n",
       "      <td>Home</td>\n",
       "      <td>Mobile</td>\n",
       "      <td>2024</td>\n",
       "      <td>2024</td>\n",
       "    </tr>\n",
       "    <tr>\n",
       "      <th>5</th>\n",
       "      <td>2024_0006</td>\n",
       "      <td>Campaign_2024_0006</td>\n",
       "      <td>2024-02-11</td>\n",
       "      <td>2024-12-19</td>\n",
       "      <td>Search</td>\n",
       "      <td>Europe</td>\n",
       "      <td>46728</td>\n",
       "      <td>87560</td>\n",
       "      <td>69277</td>\n",
       "      <td>6698.46</td>\n",
       "      <td>105523.82</td>\n",
       "      <td>Adults</td>\n",
       "      <td>Travel</td>\n",
       "      <td>Mobile</td>\n",
       "      <td>2024</td>\n",
       "      <td>2024</td>\n",
       "    </tr>\n",
       "    <tr>\n",
       "      <th>6</th>\n",
       "      <td>2024_0007</td>\n",
       "      <td>Campaign_2024_0007</td>\n",
       "      <td>2024-05-07</td>\n",
       "      <td>2024-09-03</td>\n",
       "      <td>Search</td>\n",
       "      <td>Asia</td>\n",
       "      <td>24269</td>\n",
       "      <td>4485</td>\n",
       "      <td>39619</td>\n",
       "      <td>8269.18</td>\n",
       "      <td>113563.46</td>\n",
       "      <td>Seniors</td>\n",
       "      <td>Home</td>\n",
       "      <td>Mobile</td>\n",
       "      <td>2024</td>\n",
       "      <td>2024</td>\n",
       "    </tr>\n",
       "    <tr>\n",
       "      <th>7</th>\n",
       "      <td>2024_0008</td>\n",
       "      <td>Campaign_2024_0008</td>\n",
       "      <td>2024-03-01</td>\n",
       "      <td>2024-09-13</td>\n",
       "      <td>Search</td>\n",
       "      <td>South America</td>\n",
       "      <td>45499</td>\n",
       "      <td>20267</td>\n",
       "      <td>8609</td>\n",
       "      <td>4110.73</td>\n",
       "      <td>59552.89</td>\n",
       "      <td>Seniors</td>\n",
       "      <td>Home</td>\n",
       "      <td>Desktop</td>\n",
       "      <td>2024</td>\n",
       "      <td>2024</td>\n",
       "    </tr>\n",
       "    <tr>\n",
       "      <th>8</th>\n",
       "      <td>2024_0009</td>\n",
       "      <td>Campaign_2024_0009</td>\n",
       "      <td>2024-03-15</td>\n",
       "      <td>2024-07-31</td>\n",
       "      <td>Print</td>\n",
       "      <td>Asia</td>\n",
       "      <td>14398</td>\n",
       "      <td>79811</td>\n",
       "      <td>62095</td>\n",
       "      <td>14214.98</td>\n",
       "      <td>74892.62</td>\n",
       "      <td>Adults</td>\n",
       "      <td>Services</td>\n",
       "      <td>Mobile</td>\n",
       "      <td>2024</td>\n",
       "      <td>2024</td>\n",
       "    </tr>\n",
       "    <tr>\n",
       "      <th>9</th>\n",
       "      <td>2024_0010</td>\n",
       "      <td>Campaign_2024_0010</td>\n",
       "      <td>2024-03-07</td>\n",
       "      <td>2024-10-15</td>\n",
       "      <td>Social</td>\n",
       "      <td>Africa</td>\n",
       "      <td>18278</td>\n",
       "      <td>57806</td>\n",
       "      <td>55147</td>\n",
       "      <td>17466.57</td>\n",
       "      <td>38287.83</td>\n",
       "      <td>Youth</td>\n",
       "      <td>Home</td>\n",
       "      <td>Mobile</td>\n",
       "      <td>2024</td>\n",
       "      <td>2024</td>\n",
       "    </tr>\n",
       "  </tbody>\n",
       "</table>\n",
       "</div>"
      ],
      "text/plain": [
       "  campaign_id       campaign_name  start_date    end_date  channel  \\\n",
       "0   2024_0001  Campaign_2024_0001  2024-05-16  2024-08-16   Search   \n",
       "1   2024_0002  Campaign_2024_0002  2024-04-06  2024-10-13   Search   \n",
       "2   2024_0003  Campaign_2024_0003  2024-05-08  2024-11-27   Social   \n",
       "3   2024_0004  Campaign_2024_0004  2024-01-28  2024-08-03  Display   \n",
       "4   2024_0005  Campaign_2024_0005  2024-02-06  2024-08-23   Social   \n",
       "5   2024_0006  Campaign_2024_0006  2024-02-11  2024-12-19   Search   \n",
       "6   2024_0007  Campaign_2024_0007  2024-05-07  2024-09-03   Search   \n",
       "7   2024_0008  Campaign_2024_0008  2024-03-01  2024-09-13   Search   \n",
       "8   2024_0009  Campaign_2024_0009  2024-03-15  2024-07-31    Print   \n",
       "9   2024_0010  Campaign_2024_0010  2024-03-07  2024-10-15   Social   \n",
       "\n",
       "          region  impressions  clicks  conversions  spend_usd  revenue_usd  \\\n",
       "0  South America        28252    5609        65466   39193.43     79017.74   \n",
       "1           Asia        89608   83584        26865   17291.53     49868.54   \n",
       "2         Europe        37853   62661        43662    6729.63     63021.28   \n",
       "3         Africa        10577   41421        75023   15077.58    133106.71   \n",
       "4           Asia        84039   56010        11283   16877.69    144736.99   \n",
       "5         Europe        46728   87560        69277    6698.46    105523.82   \n",
       "6           Asia        24269    4485        39619    8269.18    113563.46   \n",
       "7  South America        45499   20267         8609    4110.73     59552.89   \n",
       "8           Asia        14398   79811        62095   14214.98     74892.62   \n",
       "9         Africa        18278   57806        55147   17466.57     38287.83   \n",
       "\n",
       "  target_audience product_category   device  year  dataset_year  \n",
       "0           Youth      Electronics  Desktop  2024          2024  \n",
       "1          Adults             Home   Mobile  2024          2024  \n",
       "2         Seniors      Electronics  Desktop  2024          2024  \n",
       "3         Seniors         Clothing  Desktop  2024          2024  \n",
       "4          Adults             Home   Mobile  2024          2024  \n",
       "5          Adults           Travel   Mobile  2024          2024  \n",
       "6         Seniors             Home   Mobile  2024          2024  \n",
       "7         Seniors             Home  Desktop  2024          2024  \n",
       "8          Adults         Services   Mobile  2024          2024  \n",
       "9           Youth             Home   Mobile  2024          2024  "
      ]
     },
     "execution_count": 38,
     "metadata": {},
     "output_type": "execute_result"
    }
   ],
   "source": [
    "print(df.shape)\n",
    "print(df.info())\n",
    "print(df.describe())\n",
    "df.head(10)"
   ]
  },
  {
   "cell_type": "code",
   "execution_count": null,
   "id": "42b75c2a-1bec-43b1-9019-dda9f00cec03",
   "metadata": {},
   "outputs": [],
   "source": []
  }
 ],
 "metadata": {
  "kernelspec": {
   "display_name": "Python 3 (ipykernel)",
   "language": "python",
   "name": "python3"
  },
  "language_info": {
   "codemirror_mode": {
    "name": "ipython",
    "version": 3
   },
   "file_extension": ".py",
   "mimetype": "text/x-python",
   "name": "python",
   "nbconvert_exporter": "python",
   "pygments_lexer": "ipython3",
   "version": "3.13.3"
  }
 },
 "nbformat": 4,
 "nbformat_minor": 5
}
