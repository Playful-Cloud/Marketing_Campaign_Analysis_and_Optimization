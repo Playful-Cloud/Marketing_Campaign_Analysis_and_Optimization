{
 "cells": [
  {
   "cell_type": "markdown",
   "id": "8b652863-8146-496d-a7a8-18dfe742f295",
   "metadata": {},
   "source": [
    "# DATA INGESTION"
   ]
  },
  {
   "cell_type": "markdown",
   "id": "99d92903-6704-4d52-9e79-33138931e189",
   "metadata": {},
   "source": [
    "My Goal: Bring raw data into your project environment.\n",
    "Tasks:\n",
    "\n",
    "Load CSVs (marketing_campaign_2024.csv, marketing_campaign_2025.csv)\n",
    "\n",
    "Combine them into one dataset (if needed, using pd.concat)\n",
    "\n",
    "Do very light sanity checks (row counts, column names)\n",
    "\n",
    "Save into /data/raw/"
   ]
  },
  {
   "cell_type": "markdown",
   "id": "abf29279-b958-4555-86be-8fad3650878f",
   "metadata": {},
   "source": [
    "## marketing_campaign_2024.csv"
   ]
  },
  {
   "cell_type": "code",
   "execution_count": 31,
   "id": "e1a3860e-de63-4f90-acd1-e4128c2c3079",
   "metadata": {},
   "outputs": [],
   "source": [
    "import pandas as pd"
   ]
  },
  {
   "cell_type": "code",
   "execution_count": 83,
   "id": "b2ab974e-3b94-4572-b2ec-37369051a694",
   "metadata": {
    "scrolled": true
   },
   "outputs": [],
   "source": [
    "#LOAD DATA\n",
    "#LOAD 1ST CSV - 2024 FILE\n",
    "\n",
    "df1 = pd.read_csv(\"./data/raw/marketing_campaign_2024.csv\")\n"
   ]
  },
  {
   "cell_type": "code",
   "execution_count": 84,
   "id": "cc7ff259-534a-44d4-84b1-715ac4873bc7",
   "metadata": {},
   "outputs": [
    {
     "data": {
      "text/html": [
       "<div>\n",
       "<style scoped>\n",
       "    .dataframe tbody tr th:only-of-type {\n",
       "        vertical-align: middle;\n",
       "    }\n",
       "\n",
       "    .dataframe tbody tr th {\n",
       "        vertical-align: top;\n",
       "    }\n",
       "\n",
       "    .dataframe thead th {\n",
       "        text-align: right;\n",
       "    }\n",
       "</style>\n",
       "<table border=\"1\" class=\"dataframe\">\n",
       "  <thead>\n",
       "    <tr style=\"text-align: right;\">\n",
       "      <th></th>\n",
       "      <th>campaign_id</th>\n",
       "      <th>campaign_name</th>\n",
       "      <th>start_date</th>\n",
       "      <th>end_date</th>\n",
       "      <th>channel</th>\n",
       "      <th>region</th>\n",
       "      <th>impressions</th>\n",
       "      <th>clicks</th>\n",
       "      <th>conversions</th>\n",
       "      <th>spend_usd</th>\n",
       "      <th>revenue_usd</th>\n",
       "      <th>target_audience</th>\n",
       "      <th>product_category</th>\n",
       "      <th>device</th>\n",
       "      <th>year</th>\n",
       "    </tr>\n",
       "  </thead>\n",
       "  <tbody>\n",
       "    <tr>\n",
       "      <th>0</th>\n",
       "      <td>2024_0001</td>\n",
       "      <td>Campaign_2024_0001</td>\n",
       "      <td>2024-02-06</td>\n",
       "      <td>2024-10-29</td>\n",
       "      <td>Print</td>\n",
       "      <td>North America</td>\n",
       "      <td>98331</td>\n",
       "      <td>7575</td>\n",
       "      <td>5651</td>\n",
       "      <td>5388.54</td>\n",
       "      <td>16034.82</td>\n",
       "      <td>Youth</td>\n",
       "      <td>Electronics</td>\n",
       "      <td>Tablet</td>\n",
       "      <td>2024</td>\n",
       "    </tr>\n",
       "    <tr>\n",
       "      <th>1</th>\n",
       "      <td>2024_0002</td>\n",
       "      <td>Campaign_2024_0002</td>\n",
       "      <td>2024-01-31</td>\n",
       "      <td>2024-04-13</td>\n",
       "      <td>Social</td>\n",
       "      <td>Asia</td>\n",
       "      <td>7434</td>\n",
       "      <td>2848</td>\n",
       "      <td>542</td>\n",
       "      <td>25115.44</td>\n",
       "      <td>29488.38</td>\n",
       "      <td>Youth</td>\n",
       "      <td>Electronics</td>\n",
       "      <td>Tablet</td>\n",
       "      <td>2024</td>\n",
       "    </tr>\n",
       "    <tr>\n",
       "      <th>2</th>\n",
       "      <td>2024_0003</td>\n",
       "      <td>Campaign_2024_0003</td>\n",
       "      <td>2024-01-13</td>\n",
       "      <td>2024-07-17</td>\n",
       "      <td>Email</td>\n",
       "      <td>Asia</td>\n",
       "      <td>93676</td>\n",
       "      <td>67404</td>\n",
       "      <td>32708</td>\n",
       "      <td>47090.84</td>\n",
       "      <td>65441.18</td>\n",
       "      <td>Adults</td>\n",
       "      <td>Electronics</td>\n",
       "      <td>Tablet</td>\n",
       "      <td>2024</td>\n",
       "    </tr>\n",
       "    <tr>\n",
       "      <th>3</th>\n",
       "      <td>2024_0004</td>\n",
       "      <td>Campaign_2024_0004</td>\n",
       "      <td>2024-01-02</td>\n",
       "      <td>2024-03-03</td>\n",
       "      <td>Email</td>\n",
       "      <td>Europe</td>\n",
       "      <td>46596</td>\n",
       "      <td>34586</td>\n",
       "      <td>17099</td>\n",
       "      <td>6856.25</td>\n",
       "      <td>17325.38</td>\n",
       "      <td>Adults</td>\n",
       "      <td>Services</td>\n",
       "      <td>Mobile</td>\n",
       "      <td>2024</td>\n",
       "    </tr>\n",
       "    <tr>\n",
       "      <th>4</th>\n",
       "      <td>2024_0005</td>\n",
       "      <td>Campaign_2024_0005</td>\n",
       "      <td>2024-04-24</td>\n",
       "      <td>2024-11-24</td>\n",
       "      <td>Email</td>\n",
       "      <td>Africa</td>\n",
       "      <td>61629</td>\n",
       "      <td>1750</td>\n",
       "      <td>584</td>\n",
       "      <td>1888.24</td>\n",
       "      <td>2351.42</td>\n",
       "      <td>Adults</td>\n",
       "      <td>Services</td>\n",
       "      <td>Mobile</td>\n",
       "      <td>2024</td>\n",
       "    </tr>\n",
       "  </tbody>\n",
       "</table>\n",
       "</div>"
      ],
      "text/plain": [
       "  campaign_id       campaign_name  start_date    end_date channel  \\\n",
       "0   2024_0001  Campaign_2024_0001  2024-02-06  2024-10-29   Print   \n",
       "1   2024_0002  Campaign_2024_0002  2024-01-31  2024-04-13  Social   \n",
       "2   2024_0003  Campaign_2024_0003  2024-01-13  2024-07-17   Email   \n",
       "3   2024_0004  Campaign_2024_0004  2024-01-02  2024-03-03   Email   \n",
       "4   2024_0005  Campaign_2024_0005  2024-04-24  2024-11-24   Email   \n",
       "\n",
       "          region  impressions  clicks  conversions  spend_usd  revenue_usd  \\\n",
       "0  North America        98331    7575         5651    5388.54     16034.82   \n",
       "1           Asia         7434    2848          542   25115.44     29488.38   \n",
       "2           Asia        93676   67404        32708   47090.84     65441.18   \n",
       "3         Europe        46596   34586        17099    6856.25     17325.38   \n",
       "4         Africa        61629    1750          584    1888.24      2351.42   \n",
       "\n",
       "  target_audience product_category  device  year  \n",
       "0           Youth      Electronics  Tablet  2024  \n",
       "1           Youth      Electronics  Tablet  2024  \n",
       "2          Adults      Electronics  Tablet  2024  \n",
       "3          Adults         Services  Mobile  2024  \n",
       "4          Adults         Services  Mobile  2024  "
      ]
     },
     "execution_count": 84,
     "metadata": {},
     "output_type": "execute_result"
    }
   ],
   "source": [
    "#INITIAL CHECK 1ST 5 ROWS\n",
    "\n",
    "df1.head()\n"
   ]
  },
  {
   "cell_type": "code",
   "execution_count": 86,
   "id": "d1b6c8cf-78d5-444b-affe-7022680c4769",
   "metadata": {},
   "outputs": [
    {
     "data": {
      "text/plain": [
       "(500, 15)"
      ]
     },
     "execution_count": 86,
     "metadata": {},
     "output_type": "execute_result"
    }
   ],
   "source": [
    "df1.shape"
   ]
  },
  {
   "cell_type": "code",
   "execution_count": 87,
   "id": "6e5856b1-1266-41d1-85c9-f52a2c82b828",
   "metadata": {},
   "outputs": [
    {
     "name": "stdout",
     "output_type": "stream",
     "text": [
      "<class 'pandas.core.frame.DataFrame'>\n",
      "RangeIndex: 500 entries, 0 to 499\n",
      "Data columns (total 15 columns):\n",
      " #   Column            Non-Null Count  Dtype  \n",
      "---  ------            --------------  -----  \n",
      " 0   campaign_id       500 non-null    object \n",
      " 1   campaign_name     500 non-null    object \n",
      " 2   start_date        500 non-null    object \n",
      " 3   end_date          500 non-null    object \n",
      " 4   channel           500 non-null    object \n",
      " 5   region            500 non-null    object \n",
      " 6   impressions       500 non-null    int64  \n",
      " 7   clicks            500 non-null    int64  \n",
      " 8   conversions       500 non-null    int64  \n",
      " 9   spend_usd         500 non-null    float64\n",
      " 10  revenue_usd       500 non-null    float64\n",
      " 11  target_audience   500 non-null    object \n",
      " 12  product_category  500 non-null    object \n",
      " 13  device            500 non-null    object \n",
      " 14  year              500 non-null    int64  \n",
      "dtypes: float64(2), int64(4), object(9)\n",
      "memory usage: 58.7+ KB\n"
     ]
    }
   ],
   "source": [
    "df1.info()"
   ]
  },
  {
   "cell_type": "markdown",
   "id": "b877cb80-e2ae-4007-a95e-3cda44ac6875",
   "metadata": {},
   "source": [
    "# marketing_campaign_2025.csv"
   ]
  },
  {
   "cell_type": "code",
   "execution_count": 69,
   "id": "693b0f6f-f1e5-4076-a763-598af24d1d91",
   "metadata": {},
   "outputs": [],
   "source": [
    "#LOAD DATA\n",
    "#LOAD 2nd CSV - 2024 FILE\n",
    "\n",
    "df2 = pd.read_csv(\"./data/raw/marketing_campaign_2025.csv\")\n"
   ]
  },
  {
   "cell_type": "code",
   "execution_count": 89,
   "id": "bb82d627-b586-41d3-95db-5be5a3eb6f17",
   "metadata": {},
   "outputs": [
    {
     "data": {
      "text/html": [
       "<div>\n",
       "<style scoped>\n",
       "    .dataframe tbody tr th:only-of-type {\n",
       "        vertical-align: middle;\n",
       "    }\n",
       "\n",
       "    .dataframe tbody tr th {\n",
       "        vertical-align: top;\n",
       "    }\n",
       "\n",
       "    .dataframe thead th {\n",
       "        text-align: right;\n",
       "    }\n",
       "</style>\n",
       "<table border=\"1\" class=\"dataframe\">\n",
       "  <thead>\n",
       "    <tr style=\"text-align: right;\">\n",
       "      <th></th>\n",
       "      <th>campaign_id</th>\n",
       "      <th>campaign_name</th>\n",
       "      <th>start_date</th>\n",
       "      <th>end_date</th>\n",
       "      <th>channel</th>\n",
       "      <th>region</th>\n",
       "      <th>impressions</th>\n",
       "      <th>clicks</th>\n",
       "      <th>conversions</th>\n",
       "      <th>spend_usd</th>\n",
       "      <th>revenue_usd</th>\n",
       "      <th>target_audience</th>\n",
       "      <th>product_category</th>\n",
       "      <th>device</th>\n",
       "      <th>year</th>\n",
       "    </tr>\n",
       "  </thead>\n",
       "  <tbody>\n",
       "    <tr>\n",
       "      <th>0</th>\n",
       "      <td>2024_0001</td>\n",
       "      <td>Campaign_2024_0001</td>\n",
       "      <td>2024-02-06</td>\n",
       "      <td>2024-10-29</td>\n",
       "      <td>Print</td>\n",
       "      <td>North America</td>\n",
       "      <td>98331</td>\n",
       "      <td>7575</td>\n",
       "      <td>5651</td>\n",
       "      <td>5388.54</td>\n",
       "      <td>16034.82</td>\n",
       "      <td>Youth</td>\n",
       "      <td>Electronics</td>\n",
       "      <td>Tablet</td>\n",
       "      <td>2024</td>\n",
       "    </tr>\n",
       "    <tr>\n",
       "      <th>1</th>\n",
       "      <td>2024_0002</td>\n",
       "      <td>Campaign_2024_0002</td>\n",
       "      <td>2024-01-31</td>\n",
       "      <td>2024-04-13</td>\n",
       "      <td>Social</td>\n",
       "      <td>Asia</td>\n",
       "      <td>7434</td>\n",
       "      <td>2848</td>\n",
       "      <td>542</td>\n",
       "      <td>25115.44</td>\n",
       "      <td>29488.38</td>\n",
       "      <td>Youth</td>\n",
       "      <td>Electronics</td>\n",
       "      <td>Tablet</td>\n",
       "      <td>2024</td>\n",
       "    </tr>\n",
       "    <tr>\n",
       "      <th>2</th>\n",
       "      <td>2024_0003</td>\n",
       "      <td>Campaign_2024_0003</td>\n",
       "      <td>2024-01-13</td>\n",
       "      <td>2024-07-17</td>\n",
       "      <td>Email</td>\n",
       "      <td>Asia</td>\n",
       "      <td>93676</td>\n",
       "      <td>67404</td>\n",
       "      <td>32708</td>\n",
       "      <td>47090.84</td>\n",
       "      <td>65441.18</td>\n",
       "      <td>Adults</td>\n",
       "      <td>Electronics</td>\n",
       "      <td>Tablet</td>\n",
       "      <td>2024</td>\n",
       "    </tr>\n",
       "    <tr>\n",
       "      <th>3</th>\n",
       "      <td>2024_0004</td>\n",
       "      <td>Campaign_2024_0004</td>\n",
       "      <td>2024-01-02</td>\n",
       "      <td>2024-03-03</td>\n",
       "      <td>Email</td>\n",
       "      <td>Europe</td>\n",
       "      <td>46596</td>\n",
       "      <td>34586</td>\n",
       "      <td>17099</td>\n",
       "      <td>6856.25</td>\n",
       "      <td>17325.38</td>\n",
       "      <td>Adults</td>\n",
       "      <td>Services</td>\n",
       "      <td>Mobile</td>\n",
       "      <td>2024</td>\n",
       "    </tr>\n",
       "    <tr>\n",
       "      <th>4</th>\n",
       "      <td>2024_0005</td>\n",
       "      <td>Campaign_2024_0005</td>\n",
       "      <td>2024-04-24</td>\n",
       "      <td>2024-11-24</td>\n",
       "      <td>Email</td>\n",
       "      <td>Africa</td>\n",
       "      <td>61629</td>\n",
       "      <td>1750</td>\n",
       "      <td>584</td>\n",
       "      <td>1888.24</td>\n",
       "      <td>2351.42</td>\n",
       "      <td>Adults</td>\n",
       "      <td>Services</td>\n",
       "      <td>Mobile</td>\n",
       "      <td>2024</td>\n",
       "    </tr>\n",
       "  </tbody>\n",
       "</table>\n",
       "</div>"
      ],
      "text/plain": [
       "  campaign_id       campaign_name  start_date    end_date channel  \\\n",
       "0   2024_0001  Campaign_2024_0001  2024-02-06  2024-10-29   Print   \n",
       "1   2024_0002  Campaign_2024_0002  2024-01-31  2024-04-13  Social   \n",
       "2   2024_0003  Campaign_2024_0003  2024-01-13  2024-07-17   Email   \n",
       "3   2024_0004  Campaign_2024_0004  2024-01-02  2024-03-03   Email   \n",
       "4   2024_0005  Campaign_2024_0005  2024-04-24  2024-11-24   Email   \n",
       "\n",
       "          region  impressions  clicks  conversions  spend_usd  revenue_usd  \\\n",
       "0  North America        98331    7575         5651    5388.54     16034.82   \n",
       "1           Asia         7434    2848          542   25115.44     29488.38   \n",
       "2           Asia        93676   67404        32708   47090.84     65441.18   \n",
       "3         Europe        46596   34586        17099    6856.25     17325.38   \n",
       "4         Africa        61629    1750          584    1888.24      2351.42   \n",
       "\n",
       "  target_audience product_category  device  year  \n",
       "0           Youth      Electronics  Tablet  2024  \n",
       "1           Youth      Electronics  Tablet  2024  \n",
       "2          Adults      Electronics  Tablet  2024  \n",
       "3          Adults         Services  Mobile  2024  \n",
       "4          Adults         Services  Mobile  2024  "
      ]
     },
     "execution_count": 89,
     "metadata": {},
     "output_type": "execute_result"
    }
   ],
   "source": [
    "#INITIAL CHECK 1ST 5 ROWS\n",
    "\n",
    "df1.head()\n"
   ]
  },
  {
   "cell_type": "code",
   "execution_count": 90,
   "id": "90af88b1-df9c-4654-9d82-add97ea33df9",
   "metadata": {},
   "outputs": [
    {
     "data": {
      "text/plain": [
       "(500, 15)"
      ]
     },
     "execution_count": 90,
     "metadata": {},
     "output_type": "execute_result"
    }
   ],
   "source": [
    "df2.shape"
   ]
  },
  {
   "cell_type": "code",
   "execution_count": 91,
   "id": "920e5fda-db63-49f5-8a7b-59cee89fb671",
   "metadata": {},
   "outputs": [
    {
     "name": "stdout",
     "output_type": "stream",
     "text": [
      "<class 'pandas.core.frame.DataFrame'>\n",
      "RangeIndex: 500 entries, 0 to 499\n",
      "Data columns (total 15 columns):\n",
      " #   Column            Non-Null Count  Dtype  \n",
      "---  ------            --------------  -----  \n",
      " 0   campaign_id       500 non-null    object \n",
      " 1   campaign_name     500 non-null    object \n",
      " 2   start_date        500 non-null    object \n",
      " 3   end_date          500 non-null    object \n",
      " 4   channel           500 non-null    object \n",
      " 5   region            500 non-null    object \n",
      " 6   impressions       500 non-null    int64  \n",
      " 7   clicks            500 non-null    int64  \n",
      " 8   conversions       500 non-null    int64  \n",
      " 9   spend_usd         500 non-null    float64\n",
      " 10  revenue_usd       500 non-null    float64\n",
      " 11  target_audience   500 non-null    object \n",
      " 12  product_category  500 non-null    object \n",
      " 13  device            500 non-null    object \n",
      " 14  year              500 non-null    int64  \n",
      "dtypes: float64(2), int64(4), object(9)\n",
      "memory usage: 58.7+ KB\n"
     ]
    }
   ],
   "source": [
    "df2.info()"
   ]
  },
  {
   "cell_type": "code",
   "execution_count": null,
   "id": "eae92605-6989-4e8a-beeb-21efcbc47852",
   "metadata": {},
   "outputs": [],
   "source": []
  }
 ],
 "metadata": {
  "kernelspec": {
   "display_name": "Python 3 (ipykernel)",
   "language": "python",
   "name": "python3"
  },
  "language_info": {
   "codemirror_mode": {
    "name": "ipython",
    "version": 3
   },
   "file_extension": ".py",
   "mimetype": "text/x-python",
   "name": "python",
   "nbconvert_exporter": "python",
   "pygments_lexer": "ipython3",
   "version": "3.13.3"
  }
 },
 "nbformat": 4,
 "nbformat_minor": 5
}
