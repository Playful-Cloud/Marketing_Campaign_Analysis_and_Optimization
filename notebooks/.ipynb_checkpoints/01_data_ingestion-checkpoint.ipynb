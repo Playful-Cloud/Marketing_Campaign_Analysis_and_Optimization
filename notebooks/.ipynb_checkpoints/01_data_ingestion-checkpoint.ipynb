{
 "cells": [
  {
   "cell_type": "markdown",
   "id": "8b652863-8146-496d-a7a8-18dfe742f295",
   "metadata": {},
   "source": [
    "# DATA INGESTION"
   ]
  },
  {
   "cell_type": "markdown",
   "id": "99d92903-6704-4d52-9e79-33138931e189",
   "metadata": {},
   "source": [
    "My Goal: Bring raw data into your project environment.\n",
    "Tasks:\n",
    "\n",
    "Load CSVs (marketing_campaign_2024.csv, marketing_campaign_2025.csv)\n",
    "\n",
    "Combine them into one dataset (if needed, using pd.concat)\n",
    "\n",
    "Do very light sanity checks (row counts, column names)\n",
    "\n",
    "Save into /data/raw/"
   ]
  },
  {
   "cell_type": "markdown",
   "id": "abf29279-b958-4555-86be-8fad3650878f",
   "metadata": {},
   "source": [
    "## marketing_campaign_2024.csv"
   ]
  },
  {
   "cell_type": "code",
   "execution_count": 1,
   "id": "e1a3860e-de63-4f90-acd1-e4128c2c3079",
   "metadata": {},
   "outputs": [],
   "source": [
    "import pandas as pd"
   ]
  },
  {
   "cell_type": "code",
   "execution_count": 11,
   "id": "b2ab974e-3b94-4572-b2ec-37369051a694",
   "metadata": {
    "scrolled": true
   },
   "outputs": [],
   "source": [
    "#LOAD DATA\n",
    "#LOAD 1ST CSV - 2024 FILE\n",
    "\n",
    "df1 = pd.read_csv(\"../data/raw/marketing_campaign_2024.csv\")\n"
   ]
  },
  {
   "cell_type": "code",
   "execution_count": 12,
   "id": "cc7ff259-534a-44d4-84b1-715ac4873bc7",
   "metadata": {},
   "outputs": [
    {
     "data": {
      "text/html": [
       "<div>\n",
       "<style scoped>\n",
       "    .dataframe tbody tr th:only-of-type {\n",
       "        vertical-align: middle;\n",
       "    }\n",
       "\n",
       "    .dataframe tbody tr th {\n",
       "        vertical-align: top;\n",
       "    }\n",
       "\n",
       "    .dataframe thead th {\n",
       "        text-align: right;\n",
       "    }\n",
       "</style>\n",
       "<table border=\"1\" class=\"dataframe\">\n",
       "  <thead>\n",
       "    <tr style=\"text-align: right;\">\n",
       "      <th></th>\n",
       "      <th>campaign_id</th>\n",
       "      <th>campaign_name</th>\n",
       "      <th>start_date</th>\n",
       "      <th>end_date</th>\n",
       "      <th>channel</th>\n",
       "      <th>region</th>\n",
       "      <th>impressions</th>\n",
       "      <th>clicks</th>\n",
       "      <th>conversions</th>\n",
       "      <th>spend_usd</th>\n",
       "      <th>revenue_usd</th>\n",
       "      <th>target_audience</th>\n",
       "      <th>product_category</th>\n",
       "      <th>device</th>\n",
       "      <th>year</th>\n",
       "    </tr>\n",
       "  </thead>\n",
       "  <tbody>\n",
       "    <tr>\n",
       "      <th>0</th>\n",
       "      <td>2024_0001</td>\n",
       "      <td>Campaign_2024_0001</td>\n",
       "      <td>2024-05-16</td>\n",
       "      <td>2024-08-16</td>\n",
       "      <td>Search</td>\n",
       "      <td>South America</td>\n",
       "      <td>28252</td>\n",
       "      <td>5609</td>\n",
       "      <td>65466</td>\n",
       "      <td>39193.43</td>\n",
       "      <td>79017.74</td>\n",
       "      <td>Youth</td>\n",
       "      <td>Electronics</td>\n",
       "      <td>Desktop</td>\n",
       "      <td>2024</td>\n",
       "    </tr>\n",
       "    <tr>\n",
       "      <th>1</th>\n",
       "      <td>2024_0002</td>\n",
       "      <td>Campaign_2024_0002</td>\n",
       "      <td>2024-04-06</td>\n",
       "      <td>2024-10-13</td>\n",
       "      <td>Search</td>\n",
       "      <td>Asia</td>\n",
       "      <td>89608</td>\n",
       "      <td>83584</td>\n",
       "      <td>26865</td>\n",
       "      <td>17291.53</td>\n",
       "      <td>49868.54</td>\n",
       "      <td>Adults</td>\n",
       "      <td>Home</td>\n",
       "      <td>Mobile</td>\n",
       "      <td>2024</td>\n",
       "    </tr>\n",
       "    <tr>\n",
       "      <th>2</th>\n",
       "      <td>2024_0003</td>\n",
       "      <td>Campaign_2024_0003</td>\n",
       "      <td>2024-05-08</td>\n",
       "      <td>2024-11-27</td>\n",
       "      <td>Social</td>\n",
       "      <td>Europe</td>\n",
       "      <td>37853</td>\n",
       "      <td>62661</td>\n",
       "      <td>43662</td>\n",
       "      <td>6729.63</td>\n",
       "      <td>63021.28</td>\n",
       "      <td>Seniors</td>\n",
       "      <td>Electronics</td>\n",
       "      <td>Desktop</td>\n",
       "      <td>2024</td>\n",
       "    </tr>\n",
       "    <tr>\n",
       "      <th>3</th>\n",
       "      <td>2024_0004</td>\n",
       "      <td>Campaign_2024_0004</td>\n",
       "      <td>2024-01-28</td>\n",
       "      <td>2024-08-03</td>\n",
       "      <td>Display</td>\n",
       "      <td>Africa</td>\n",
       "      <td>10577</td>\n",
       "      <td>41421</td>\n",
       "      <td>75023</td>\n",
       "      <td>15077.58</td>\n",
       "      <td>133106.71</td>\n",
       "      <td>Seniors</td>\n",
       "      <td>Clothing</td>\n",
       "      <td>Desktop</td>\n",
       "      <td>2024</td>\n",
       "    </tr>\n",
       "    <tr>\n",
       "      <th>4</th>\n",
       "      <td>2024_0005</td>\n",
       "      <td>Campaign_2024_0005</td>\n",
       "      <td>2024-02-06</td>\n",
       "      <td>2024-08-23</td>\n",
       "      <td>Social</td>\n",
       "      <td>Asia</td>\n",
       "      <td>84039</td>\n",
       "      <td>56010</td>\n",
       "      <td>11283</td>\n",
       "      <td>16877.69</td>\n",
       "      <td>144736.99</td>\n",
       "      <td>Adults</td>\n",
       "      <td>Home</td>\n",
       "      <td>Mobile</td>\n",
       "      <td>2024</td>\n",
       "    </tr>\n",
       "  </tbody>\n",
       "</table>\n",
       "</div>"
      ],
      "text/plain": [
       "  campaign_id       campaign_name  start_date    end_date  channel  \\\n",
       "0   2024_0001  Campaign_2024_0001  2024-05-16  2024-08-16   Search   \n",
       "1   2024_0002  Campaign_2024_0002  2024-04-06  2024-10-13   Search   \n",
       "2   2024_0003  Campaign_2024_0003  2024-05-08  2024-11-27   Social   \n",
       "3   2024_0004  Campaign_2024_0004  2024-01-28  2024-08-03  Display   \n",
       "4   2024_0005  Campaign_2024_0005  2024-02-06  2024-08-23   Social   \n",
       "\n",
       "          region  impressions  clicks  conversions  spend_usd  revenue_usd  \\\n",
       "0  South America        28252    5609        65466   39193.43     79017.74   \n",
       "1           Asia        89608   83584        26865   17291.53     49868.54   \n",
       "2         Europe        37853   62661        43662    6729.63     63021.28   \n",
       "3         Africa        10577   41421        75023   15077.58    133106.71   \n",
       "4           Asia        84039   56010        11283   16877.69    144736.99   \n",
       "\n",
       "  target_audience product_category   device  year  \n",
       "0           Youth      Electronics  Desktop  2024  \n",
       "1          Adults             Home   Mobile  2024  \n",
       "2         Seniors      Electronics  Desktop  2024  \n",
       "3         Seniors         Clothing  Desktop  2024  \n",
       "4          Adults             Home   Mobile  2024  "
      ]
     },
     "execution_count": 12,
     "metadata": {},
     "output_type": "execute_result"
    }
   ],
   "source": [
    "#INITIAL CHECK 1ST 5 ROWS\n",
    "\n",
    "df1.head()\n"
   ]
  },
  {
   "cell_type": "code",
   "execution_count": 13,
   "id": "d1b6c8cf-78d5-444b-affe-7022680c4769",
   "metadata": {},
   "outputs": [
    {
     "data": {
      "text/plain": [
       "(500, 15)"
      ]
     },
     "execution_count": 13,
     "metadata": {},
     "output_type": "execute_result"
    }
   ],
   "source": [
    "df1.shape"
   ]
  },
  {
   "cell_type": "code",
   "execution_count": 14,
   "id": "6e5856b1-1266-41d1-85c9-f52a2c82b828",
   "metadata": {},
   "outputs": [
    {
     "name": "stdout",
     "output_type": "stream",
     "text": [
      "<class 'pandas.core.frame.DataFrame'>\n",
      "RangeIndex: 500 entries, 0 to 499\n",
      "Data columns (total 15 columns):\n",
      " #   Column            Non-Null Count  Dtype  \n",
      "---  ------            --------------  -----  \n",
      " 0   campaign_id       500 non-null    object \n",
      " 1   campaign_name     500 non-null    object \n",
      " 2   start_date        500 non-null    object \n",
      " 3   end_date          500 non-null    object \n",
      " 4   channel           500 non-null    object \n",
      " 5   region            500 non-null    object \n",
      " 6   impressions       500 non-null    int64  \n",
      " 7   clicks            500 non-null    int64  \n",
      " 8   conversions       500 non-null    int64  \n",
      " 9   spend_usd         500 non-null    float64\n",
      " 10  revenue_usd       500 non-null    float64\n",
      " 11  target_audience   500 non-null    object \n",
      " 12  product_category  500 non-null    object \n",
      " 13  device            500 non-null    object \n",
      " 14  year              500 non-null    int64  \n",
      "dtypes: float64(2), int64(4), object(9)\n",
      "memory usage: 58.7+ KB\n"
     ]
    }
   ],
   "source": [
    "df1.info()"
   ]
  },
  {
   "cell_type": "markdown",
   "id": "b877cb80-e2ae-4007-a95e-3cda44ac6875",
   "metadata": {},
   "source": [
    "# marketing_campaign_2025.csv"
   ]
  },
  {
   "cell_type": "code",
   "execution_count": 15,
   "id": "693b0f6f-f1e5-4076-a763-598af24d1d91",
   "metadata": {},
   "outputs": [],
   "source": [
    "#LOAD DATA\n",
    "#LOAD 2nd CSV - 2024 FILE\n",
    "\n",
    "df2 = pd.read_csv(\"../data/raw/marketing_campaign_2025.csv\")\n"
   ]
  },
  {
   "cell_type": "code",
   "execution_count": 16,
   "id": "bb82d627-b586-41d3-95db-5be5a3eb6f17",
   "metadata": {},
   "outputs": [
    {
     "data": {
      "text/html": [
       "<div>\n",
       "<style scoped>\n",
       "    .dataframe tbody tr th:only-of-type {\n",
       "        vertical-align: middle;\n",
       "    }\n",
       "\n",
       "    .dataframe tbody tr th {\n",
       "        vertical-align: top;\n",
       "    }\n",
       "\n",
       "    .dataframe thead th {\n",
       "        text-align: right;\n",
       "    }\n",
       "</style>\n",
       "<table border=\"1\" class=\"dataframe\">\n",
       "  <thead>\n",
       "    <tr style=\"text-align: right;\">\n",
       "      <th></th>\n",
       "      <th>campaign_id</th>\n",
       "      <th>campaign_name</th>\n",
       "      <th>start_date</th>\n",
       "      <th>end_date</th>\n",
       "      <th>channel</th>\n",
       "      <th>region</th>\n",
       "      <th>impressions</th>\n",
       "      <th>clicks</th>\n",
       "      <th>conversions</th>\n",
       "      <th>spend_usd</th>\n",
       "      <th>revenue_usd</th>\n",
       "      <th>target_audience</th>\n",
       "      <th>product_category</th>\n",
       "      <th>device</th>\n",
       "      <th>year</th>\n",
       "    </tr>\n",
       "  </thead>\n",
       "  <tbody>\n",
       "    <tr>\n",
       "      <th>0</th>\n",
       "      <td>2024_0001</td>\n",
       "      <td>Campaign_2024_0001</td>\n",
       "      <td>2024-05-16</td>\n",
       "      <td>2024-08-16</td>\n",
       "      <td>Search</td>\n",
       "      <td>South America</td>\n",
       "      <td>28252</td>\n",
       "      <td>5609</td>\n",
       "      <td>65466</td>\n",
       "      <td>39193.43</td>\n",
       "      <td>79017.74</td>\n",
       "      <td>Youth</td>\n",
       "      <td>Electronics</td>\n",
       "      <td>Desktop</td>\n",
       "      <td>2024</td>\n",
       "    </tr>\n",
       "    <tr>\n",
       "      <th>1</th>\n",
       "      <td>2024_0002</td>\n",
       "      <td>Campaign_2024_0002</td>\n",
       "      <td>2024-04-06</td>\n",
       "      <td>2024-10-13</td>\n",
       "      <td>Search</td>\n",
       "      <td>Asia</td>\n",
       "      <td>89608</td>\n",
       "      <td>83584</td>\n",
       "      <td>26865</td>\n",
       "      <td>17291.53</td>\n",
       "      <td>49868.54</td>\n",
       "      <td>Adults</td>\n",
       "      <td>Home</td>\n",
       "      <td>Mobile</td>\n",
       "      <td>2024</td>\n",
       "    </tr>\n",
       "    <tr>\n",
       "      <th>2</th>\n",
       "      <td>2024_0003</td>\n",
       "      <td>Campaign_2024_0003</td>\n",
       "      <td>2024-05-08</td>\n",
       "      <td>2024-11-27</td>\n",
       "      <td>Social</td>\n",
       "      <td>Europe</td>\n",
       "      <td>37853</td>\n",
       "      <td>62661</td>\n",
       "      <td>43662</td>\n",
       "      <td>6729.63</td>\n",
       "      <td>63021.28</td>\n",
       "      <td>Seniors</td>\n",
       "      <td>Electronics</td>\n",
       "      <td>Desktop</td>\n",
       "      <td>2024</td>\n",
       "    </tr>\n",
       "    <tr>\n",
       "      <th>3</th>\n",
       "      <td>2024_0004</td>\n",
       "      <td>Campaign_2024_0004</td>\n",
       "      <td>2024-01-28</td>\n",
       "      <td>2024-08-03</td>\n",
       "      <td>Display</td>\n",
       "      <td>Africa</td>\n",
       "      <td>10577</td>\n",
       "      <td>41421</td>\n",
       "      <td>75023</td>\n",
       "      <td>15077.58</td>\n",
       "      <td>133106.71</td>\n",
       "      <td>Seniors</td>\n",
       "      <td>Clothing</td>\n",
       "      <td>Desktop</td>\n",
       "      <td>2024</td>\n",
       "    </tr>\n",
       "    <tr>\n",
       "      <th>4</th>\n",
       "      <td>2024_0005</td>\n",
       "      <td>Campaign_2024_0005</td>\n",
       "      <td>2024-02-06</td>\n",
       "      <td>2024-08-23</td>\n",
       "      <td>Social</td>\n",
       "      <td>Asia</td>\n",
       "      <td>84039</td>\n",
       "      <td>56010</td>\n",
       "      <td>11283</td>\n",
       "      <td>16877.69</td>\n",
       "      <td>144736.99</td>\n",
       "      <td>Adults</td>\n",
       "      <td>Home</td>\n",
       "      <td>Mobile</td>\n",
       "      <td>2024</td>\n",
       "    </tr>\n",
       "  </tbody>\n",
       "</table>\n",
       "</div>"
      ],
      "text/plain": [
       "  campaign_id       campaign_name  start_date    end_date  channel  \\\n",
       "0   2024_0001  Campaign_2024_0001  2024-05-16  2024-08-16   Search   \n",
       "1   2024_0002  Campaign_2024_0002  2024-04-06  2024-10-13   Search   \n",
       "2   2024_0003  Campaign_2024_0003  2024-05-08  2024-11-27   Social   \n",
       "3   2024_0004  Campaign_2024_0004  2024-01-28  2024-08-03  Display   \n",
       "4   2024_0005  Campaign_2024_0005  2024-02-06  2024-08-23   Social   \n",
       "\n",
       "          region  impressions  clicks  conversions  spend_usd  revenue_usd  \\\n",
       "0  South America        28252    5609        65466   39193.43     79017.74   \n",
       "1           Asia        89608   83584        26865   17291.53     49868.54   \n",
       "2         Europe        37853   62661        43662    6729.63     63021.28   \n",
       "3         Africa        10577   41421        75023   15077.58    133106.71   \n",
       "4           Asia        84039   56010        11283   16877.69    144736.99   \n",
       "\n",
       "  target_audience product_category   device  year  \n",
       "0           Youth      Electronics  Desktop  2024  \n",
       "1          Adults             Home   Mobile  2024  \n",
       "2         Seniors      Electronics  Desktop  2024  \n",
       "3         Seniors         Clothing  Desktop  2024  \n",
       "4          Adults             Home   Mobile  2024  "
      ]
     },
     "execution_count": 16,
     "metadata": {},
     "output_type": "execute_result"
    }
   ],
   "source": [
    "#INITIAL CHECK 1ST 5 ROWS\n",
    "\n",
    "df1.head()\n"
   ]
  },
  {
   "cell_type": "code",
   "execution_count": 17,
   "id": "90af88b1-df9c-4654-9d82-add97ea33df9",
   "metadata": {},
   "outputs": [
    {
     "data": {
      "text/plain": [
       "(500, 15)"
      ]
     },
     "execution_count": 17,
     "metadata": {},
     "output_type": "execute_result"
    }
   ],
   "source": [
    "df2.shape"
   ]
  },
  {
   "cell_type": "code",
   "execution_count": 18,
   "id": "920e5fda-db63-49f5-8a7b-59cee89fb671",
   "metadata": {},
   "outputs": [
    {
     "name": "stdout",
     "output_type": "stream",
     "text": [
      "<class 'pandas.core.frame.DataFrame'>\n",
      "RangeIndex: 500 entries, 0 to 499\n",
      "Data columns (total 15 columns):\n",
      " #   Column            Non-Null Count  Dtype  \n",
      "---  ------            --------------  -----  \n",
      " 0   campaign_id       500 non-null    object \n",
      " 1   campaign_name     500 non-null    object \n",
      " 2   start_date        500 non-null    object \n",
      " 3   end_date          500 non-null    object \n",
      " 4   channel           500 non-null    object \n",
      " 5   region            500 non-null    object \n",
      " 6   impressions       500 non-null    int64  \n",
      " 7   clicks            500 non-null    int64  \n",
      " 8   conversions       500 non-null    int64  \n",
      " 9   spend_usd         500 non-null    float64\n",
      " 10  revenue_usd       500 non-null    float64\n",
      " 11  target_audience   500 non-null    object \n",
      " 12  product_category  500 non-null    object \n",
      " 13  device            500 non-null    object \n",
      " 14  year              500 non-null    int64  \n",
      "dtypes: float64(2), int64(4), object(9)\n",
      "memory usage: 58.7+ KB\n"
     ]
    }
   ],
   "source": [
    "df2.info()"
   ]
  },
  {
   "cell_type": "code",
   "execution_count": null,
   "id": "eae92605-6989-4e8a-beeb-21efcbc47852",
   "metadata": {},
   "outputs": [],
   "source": []
  }
 ],
 "metadata": {
  "kernelspec": {
   "display_name": "Python 3 (ipykernel)",
   "language": "python",
   "name": "python3"
  },
  "language_info": {
   "codemirror_mode": {
    "name": "ipython",
    "version": 3
   },
   "file_extension": ".py",
   "mimetype": "text/x-python",
   "name": "python",
   "nbconvert_exporter": "python",
   "pygments_lexer": "ipython3",
   "version": "3.13.3"
  }
 },
 "nbformat": 4,
 "nbformat_minor": 5
}
