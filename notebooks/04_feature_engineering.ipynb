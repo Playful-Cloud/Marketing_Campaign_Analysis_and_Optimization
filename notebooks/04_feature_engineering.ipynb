{
 "cells": [
  {
   "cell_type": "markdown",
   "id": "54ba29b3-1de4-493c-a294-0cd604e630e2",
   "metadata": {},
   "source": [
    "## Feature Engineering"
   ]
  },
  {
   "cell_type": "markdown",
   "id": "63a71835-477b-490a-8550-a592c555a610",
   "metadata": {},
   "source": [
    "My Goal: Create new variables to support analysis.\n",
    "Tasks:\n",
    "\n",
    "Calculate KPIs: CTR (Clicks/Impressions), CR (Conversions/Clicks), CPC, CPM, ROI\n",
    "\n",
    "Time-based features (e.g., campaign month, quarter, year)\n",
    "\n",
    "Encode categorical variables if needed\n",
    "\n",
    "Normalization or scaling (if ML planned later)\n",
    "\n",
    "Save engineered dataset → /data/processed/marketing_campaigns_features.csv"
   ]
  },
  {
   "cell_type": "code",
   "execution_count": null,
   "id": "616a3fb4-5b65-48f1-9554-4233a8b7fab6",
   "metadata": {},
   "outputs": [],
   "source": []
  }
 ],
 "metadata": {
  "kernelspec": {
   "display_name": "Python 3 (ipykernel)",
   "language": "python",
   "name": "python3"
  },
  "language_info": {
   "codemirror_mode": {
    "name": "ipython",
    "version": 3
   },
   "file_extension": ".py",
   "mimetype": "text/x-python",
   "name": "python",
   "nbconvert_exporter": "python",
   "pygments_lexer": "ipython3",
   "version": "3.13.3"
  }
 },
 "nbformat": 4,
 "nbformat_minor": 5
}
